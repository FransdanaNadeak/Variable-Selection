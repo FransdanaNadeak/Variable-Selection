{
 "cells": [
  {
   "cell_type": "markdown",
   "metadata": {},
   "source": [
    "# Variable Selection While Predicting Apartment Price in Victoria Using Regression\n",
    "\n",
    "\n",
    "### Background : \n",
    "The Dataset provides living area and conservation status.\n",
    "There are 218 observations and 16 variables.\n",
    "\n",
    "### Objective :\n",
    "Create a python script for the Use Case below, please upload the script after you finish.\n",
    "The Problem is to determine the best model and give the reason.\n",
    "\n",
    "Tony who has profession as a broker wants to predict apartment price in Victoria based on living\n",
    "area environment and apartment conservation status. Determine the best model to predict and\n",
    "redefine new conservation variable in 3 level, A = 1A, B = 2A, C = 2B and 3A.\n",
    "\n",
    "### Instructions :\n",
    "Download the dataset as a CSV file and place it in your current working directory with the filename\n",
    "\"victoria.csv\".\n",
    "1. Import Dataset: Load the dataset.\n",
    "2. Exploratory Data Analysis: Create summary of the dataset, with python function. (mean,median, modus, max, min, range)\n",
    "3. Data Visualization: Create any kind suitable plot of dataset, it will provide a lot of insightinto the problem.\n",
    "4. Variable Selection: Choose the variable and its reason.\n",
    "5. Modelling: Create models using Regression\n",
    "6. Accuracy or Error: Calculate the Error using the helper function from the library, from dataset only\n",
    "\n"
   ]
  },
  {
   "cell_type": "markdown",
   "metadata": {},
   "source": [
    "# 1. Import Dataset : Load Dataset"
   ]
  },
  {
   "cell_type": "markdown",
   "metadata": {},
   "source": [
    "### Import Library"
   ]
  },
  {
   "cell_type": "code",
   "execution_count": 1,
   "metadata": {},
   "outputs": [],
   "source": [
    "import warnings\n",
    "warnings.filterwarnings(\"ignore\")\n",
    "#from sklearn.model_selection import GridSearchCV\n",
    "import numpy as np\n",
    "import pandas as pd\n",
    "import matplotlib.pyplot as plt\n",
    "import seaborn as sns\n",
    "import numpy as np\n",
    "from sklearn.linear_model import LinearRegression,Ridge, Lasso\n",
    "from sklearn.tree import DecisionTreeRegressor\n",
    "from sklearn.ensemble import GradientBoostingRegressor, RandomForestRegressor, GradientBoostingRegressor\n",
    "from sklearn.svm import LinearSVR, SVR\n",
    "from sklearn.neighbors import KNeighborsRegressor\n",
    "from sklearn.neural_network import MLPRegressor\n",
    "from sklearn.metrics import mean_squared_error"
   ]
  },
  {
   "cell_type": "markdown",
   "metadata": {},
   "source": [
    "### Load Dataset"
   ]
  },
  {
   "cell_type": "code",
   "execution_count": 2,
   "metadata": {},
   "outputs": [
    {
     "data": {
      "text/html": [
       "<div>\n",
       "<style scoped>\n",
       "    .dataframe tbody tr th:only-of-type {\n",
       "        vertical-align: middle;\n",
       "    }\n",
       "\n",
       "    .dataframe tbody tr th {\n",
       "        vertical-align: top;\n",
       "    }\n",
       "\n",
       "    .dataframe thead th {\n",
       "        text-align: right;\n",
       "    }\n",
       "</style>\n",
       "<table border=\"1\" class=\"dataframe\">\n",
       "  <thead>\n",
       "    <tr style=\"text-align: right;\">\n",
       "      <th></th>\n",
       "      <th>totalprice</th>\n",
       "      <th>area</th>\n",
       "      <th>zone</th>\n",
       "      <th>category</th>\n",
       "      <th>age</th>\n",
       "      <th>floor</th>\n",
       "      <th>rooms</th>\n",
       "      <th>out</th>\n",
       "      <th>conservation</th>\n",
       "      <th>toilets</th>\n",
       "      <th>garage</th>\n",
       "      <th>elevator</th>\n",
       "      <th>streetcategory</th>\n",
       "      <th>heating</th>\n",
       "      <th>tras</th>\n",
       "    </tr>\n",
       "  </thead>\n",
       "  <tbody>\n",
       "    <tr>\n",
       "      <th>0</th>\n",
       "      <td>228000.0</td>\n",
       "      <td>7.531000e+09</td>\n",
       "      <td>Z45</td>\n",
       "      <td>4B</td>\n",
       "      <td>33</td>\n",
       "      <td>3</td>\n",
       "      <td>5</td>\n",
       "      <td>E100</td>\n",
       "      <td>2B</td>\n",
       "      <td>1</td>\n",
       "      <td>0</td>\n",
       "      <td>1</td>\n",
       "      <td>S3</td>\n",
       "      <td>3A</td>\n",
       "      <td>0</td>\n",
       "    </tr>\n",
       "    <tr>\n",
       "      <th>1</th>\n",
       "      <td>409000.0</td>\n",
       "      <td>1.006500e+09</td>\n",
       "      <td>Z31</td>\n",
       "      <td>3B</td>\n",
       "      <td>5</td>\n",
       "      <td>7</td>\n",
       "      <td>5</td>\n",
       "      <td>E50</td>\n",
       "      <td>1A</td>\n",
       "      <td>2</td>\n",
       "      <td>1</td>\n",
       "      <td>1</td>\n",
       "      <td>S5</td>\n",
       "      <td>4A</td>\n",
       "      <td>1</td>\n",
       "    </tr>\n",
       "    <tr>\n",
       "      <th>2</th>\n",
       "      <td>200000.0</td>\n",
       "      <td>8.887000e+09</td>\n",
       "      <td>Z52</td>\n",
       "      <td>3A</td>\n",
       "      <td>14</td>\n",
       "      <td>8</td>\n",
       "      <td>5</td>\n",
       "      <td>E50</td>\n",
       "      <td>1A</td>\n",
       "      <td>2</td>\n",
       "      <td>0</td>\n",
       "      <td>1</td>\n",
       "      <td>S2</td>\n",
       "      <td>3A</td>\n",
       "      <td>0</td>\n",
       "    </tr>\n",
       "    <tr>\n",
       "      <th>3</th>\n",
       "      <td>180000.0</td>\n",
       "      <td>6.261000e+09</td>\n",
       "      <td>Z62</td>\n",
       "      <td>4A</td>\n",
       "      <td>41</td>\n",
       "      <td>3</td>\n",
       "      <td>4</td>\n",
       "      <td>E50</td>\n",
       "      <td>2A</td>\n",
       "      <td>1</td>\n",
       "      <td>0</td>\n",
       "      <td>0</td>\n",
       "      <td>S3</td>\n",
       "      <td>1A</td>\n",
       "      <td>0</td>\n",
       "    </tr>\n",
       "    <tr>\n",
       "      <th>4</th>\n",
       "      <td>443600.0</td>\n",
       "      <td>1.461500e+09</td>\n",
       "      <td>Z31</td>\n",
       "      <td>3A</td>\n",
       "      <td>22</td>\n",
       "      <td>6</td>\n",
       "      <td>7</td>\n",
       "      <td>E100</td>\n",
       "      <td>1A</td>\n",
       "      <td>2</td>\n",
       "      <td>0</td>\n",
       "      <td>1</td>\n",
       "      <td>S4</td>\n",
       "      <td>4A</td>\n",
       "      <td>1</td>\n",
       "    </tr>\n",
       "  </tbody>\n",
       "</table>\n",
       "</div>"
      ],
      "text/plain": [
       "   totalprice          area zone category  age  floor  rooms   out  \\\n",
       "0    228000.0  7.531000e+09  Z45       4B   33      3      5  E100   \n",
       "1    409000.0  1.006500e+09  Z31       3B    5      7      5   E50   \n",
       "2    200000.0  8.887000e+09  Z52       3A   14      8      5   E50   \n",
       "3    180000.0  6.261000e+09  Z62       4A   41      3      4   E50   \n",
       "4    443600.0  1.461500e+09  Z31       3A   22      6      7  E100   \n",
       "\n",
       "  conservation  toilets  garage  elevator streetcategory heating  tras  \n",
       "0           2B        1       0         1             S3      3A     0  \n",
       "1           1A        2       1         1             S5      4A     1  \n",
       "2           1A        2       0         1             S2      3A     0  \n",
       "3           2A        1       0         0             S3      1A     0  \n",
       "4           1A        2       0         1             S4      4A     1  "
      ]
     },
     "execution_count": 2,
     "metadata": {},
     "output_type": "execute_result"
    }
   ],
   "source": [
    "data=pd.read_csv('victoria1.csv', sep=';')\n",
    "data=data.drop('row.labels',axis=1)\n",
    "data.head()\n"
   ]
  },
  {
   "cell_type": "markdown",
   "metadata": {},
   "source": [
    "# 2. Exploratory Data Analysis"
   ]
  },
  {
   "cell_type": "markdown",
   "metadata": {},
   "source": [
    "### Create summary of the dataset (mean, median, modus, max, min, range)"
   ]
  },
  {
   "cell_type": "code",
   "execution_count": 3,
   "metadata": {},
   "outputs": [
    {
     "data": {
      "text/html": [
       "<div>\n",
       "<style scoped>\n",
       "    .dataframe tbody tr th:only-of-type {\n",
       "        vertical-align: middle;\n",
       "    }\n",
       "\n",
       "    .dataframe tbody tr th {\n",
       "        vertical-align: top;\n",
       "    }\n",
       "\n",
       "    .dataframe thead th {\n",
       "        text-align: right;\n",
       "    }\n",
       "</style>\n",
       "<table border=\"1\" class=\"dataframe\">\n",
       "  <thead>\n",
       "    <tr style=\"text-align: right;\">\n",
       "      <th></th>\n",
       "      <th>totalprice</th>\n",
       "      <th>area</th>\n",
       "      <th>age</th>\n",
       "      <th>floor</th>\n",
       "      <th>rooms</th>\n",
       "      <th>toilets</th>\n",
       "      <th>garage</th>\n",
       "      <th>elevator</th>\n",
       "      <th>tras</th>\n",
       "    </tr>\n",
       "  </thead>\n",
       "  <tbody>\n",
       "    <tr>\n",
       "      <th>count</th>\n",
       "      <td>218.000000</td>\n",
       "      <td>2.180000e+02</td>\n",
       "      <td>218.000000</td>\n",
       "      <td>218.000000</td>\n",
       "      <td>218.000000</td>\n",
       "      <td>218.000000</td>\n",
       "      <td>218.000000</td>\n",
       "      <td>218.000000</td>\n",
       "      <td>218.000000</td>\n",
       "    </tr>\n",
       "    <tr>\n",
       "      <th>mean</th>\n",
       "      <td>280741.523853</td>\n",
       "      <td>5.718657e+09</td>\n",
       "      <td>19.899083</td>\n",
       "      <td>4.440367</td>\n",
       "      <td>4.853211</td>\n",
       "      <td>1.467890</td>\n",
       "      <td>0.243119</td>\n",
       "      <td>0.798165</td>\n",
       "      <td>0.807339</td>\n",
       "    </tr>\n",
       "    <tr>\n",
       "      <th>std</th>\n",
       "      <td>69298.459358</td>\n",
       "      <td>3.455007e+09</td>\n",
       "      <td>14.595590</td>\n",
       "      <td>2.126988</td>\n",
       "      <td>0.634285</td>\n",
       "      <td>0.500116</td>\n",
       "      <td>0.450881</td>\n",
       "      <td>0.402293</td>\n",
       "      <td>0.406787</td>\n",
       "    </tr>\n",
       "    <tr>\n",
       "      <th>min</th>\n",
       "      <td>155000.000000</td>\n",
       "      <td>5.300000e+01</td>\n",
       "      <td>1.000000</td>\n",
       "      <td>1.000000</td>\n",
       "      <td>3.000000</td>\n",
       "      <td>1.000000</td>\n",
       "      <td>0.000000</td>\n",
       "      <td>0.000000</td>\n",
       "      <td>0.000000</td>\n",
       "    </tr>\n",
       "    <tr>\n",
       "      <th>25%</th>\n",
       "      <td>228500.000000</td>\n",
       "      <td>1.187250e+09</td>\n",
       "      <td>11.000000</td>\n",
       "      <td>3.000000</td>\n",
       "      <td>5.000000</td>\n",
       "      <td>1.000000</td>\n",
       "      <td>0.000000</td>\n",
       "      <td>1.000000</td>\n",
       "      <td>1.000000</td>\n",
       "    </tr>\n",
       "    <tr>\n",
       "      <th>50%</th>\n",
       "      <td>269750.000000</td>\n",
       "      <td>7.118500e+09</td>\n",
       "      <td>16.000000</td>\n",
       "      <td>4.000000</td>\n",
       "      <td>5.000000</td>\n",
       "      <td>1.000000</td>\n",
       "      <td>0.000000</td>\n",
       "      <td>1.000000</td>\n",
       "      <td>1.000000</td>\n",
       "    </tr>\n",
       "    <tr>\n",
       "      <th>75%</th>\n",
       "      <td>328625.000000</td>\n",
       "      <td>8.542750e+09</td>\n",
       "      <td>24.000000</td>\n",
       "      <td>5.000000</td>\n",
       "      <td>5.000000</td>\n",
       "      <td>2.000000</td>\n",
       "      <td>0.000000</td>\n",
       "      <td>1.000000</td>\n",
       "      <td>1.000000</td>\n",
       "    </tr>\n",
       "    <tr>\n",
       "      <th>max</th>\n",
       "      <td>560000.000000</td>\n",
       "      <td>9.992000e+09</td>\n",
       "      <td>118.000000</td>\n",
       "      <td>12.000000</td>\n",
       "      <td>7.000000</td>\n",
       "      <td>2.000000</td>\n",
       "      <td>2.000000</td>\n",
       "      <td>1.000000</td>\n",
       "      <td>2.000000</td>\n",
       "    </tr>\n",
       "  </tbody>\n",
       "</table>\n",
       "</div>"
      ],
      "text/plain": [
       "          totalprice          area         age       floor       rooms  \\\n",
       "count     218.000000  2.180000e+02  218.000000  218.000000  218.000000   \n",
       "mean   280741.523853  5.718657e+09   19.899083    4.440367    4.853211   \n",
       "std     69298.459358  3.455007e+09   14.595590    2.126988    0.634285   \n",
       "min    155000.000000  5.300000e+01    1.000000    1.000000    3.000000   \n",
       "25%    228500.000000  1.187250e+09   11.000000    3.000000    5.000000   \n",
       "50%    269750.000000  7.118500e+09   16.000000    4.000000    5.000000   \n",
       "75%    328625.000000  8.542750e+09   24.000000    5.000000    5.000000   \n",
       "max    560000.000000  9.992000e+09  118.000000   12.000000    7.000000   \n",
       "\n",
       "          toilets      garage    elevator        tras  \n",
       "count  218.000000  218.000000  218.000000  218.000000  \n",
       "mean     1.467890    0.243119    0.798165    0.807339  \n",
       "std      0.500116    0.450881    0.402293    0.406787  \n",
       "min      1.000000    0.000000    0.000000    0.000000  \n",
       "25%      1.000000    0.000000    1.000000    1.000000  \n",
       "50%      1.000000    0.000000    1.000000    1.000000  \n",
       "75%      2.000000    0.000000    1.000000    1.000000  \n",
       "max      2.000000    2.000000    1.000000    2.000000  "
      ]
     },
     "execution_count": 3,
     "metadata": {},
     "output_type": "execute_result"
    }
   ],
   "source": [
    "data.describe()"
   ]
  },
  {
   "cell_type": "markdown",
   "metadata": {},
   "source": [
    "# Data Visualization\n",
    "## Create any kind suitable plot of dataset, it will provide a lot of insight into the problem"
   ]
  },
  {
   "cell_type": "markdown",
   "metadata": {},
   "source": [
    "## Price Compared By Zone"
   ]
  },
  {
   "cell_type": "code",
   "execution_count": 6,
   "metadata": {},
   "outputs": [
    {
     "data": {
      "image/png": "[encoded data removed]",
      "text/plain": [
       "<matplotlib.figure.Figure at 0x1ed680103c8>"
      ]
     },
     "metadata": {},
     "output_type": "display_data"
    }
   ],
   "source": [
    "data2=data[['totalprice','zone']]\n",
    "data2_group=data2.groupby('zone').mean().sort_values('totalprice')\n",
    "data2_group.index\n",
    "\n",
    "f=plt.figure(figsize=(13,5))\n",
    "# Distribution off Age\n",
    "f.add_subplot(1,1,1)\n",
    "c=sns.boxplot(y=data['totalprice'],x=data['zone'], order=data2_group.index)\n",
    "c.set_xlabel(\"Zone\", fontsize=15)\n",
    "plt.show()"
   ]
  },
  {
   "cell_type": "markdown",
   "metadata": {},
   "source": [
    "Dari Boxplot di atas, terlihat bahwa Rumah/Apartemen yang memilki harga yng lebih rendah berada di zona 11, 62, 48, dan 38, sedangkan rumah yang berada di zona 21, 31, dan 42 memiliki harga yang sangat tinggi"
   ]
  },
  {
   "cell_type": "markdown",
   "metadata": {},
   "source": [
    "# Modelling With All Data"
   ]
  },
  {
   "cell_type": "code",
   "execution_count": 7,
   "metadata": {},
   "outputs": [],
   "source": [
    "y=(data['totalprice'])\n",
    "X=data.drop(['totalprice','zone'],1)\n",
    "\n",
    "X=pd.get_dummies(X)\n",
    "X.head()\n",
    "\n",
    "from sklearn.model_selection import train_test_split\n",
    "X_train,X_test,y_train,y_test = train_test_split(X,y,test_size = 0.3,random_state=1)"
   ]
  },
  {
   "cell_type": "code",
   "execution_count": 8,
   "metadata": {},
   "outputs": [
    {
     "data": {
      "text/plain": [
       "[sklearn.linear_model.base.LinearRegression,\n",
       " sklearn.linear_model.ridge.Ridge,\n",
       " sklearn.linear_model.coordinate_descent.Lasso]"
      ]
     },
     "execution_count": 8,
     "metadata": {},
     "output_type": "execute_result"
    }
   ],
   "source": [
    "## collect all model in one list\n",
    "all_model = [LinearRegression,\n",
    "             Ridge,\n",
    "             Lasso]\n",
    "\n",
    "desc_model = ['LinearRegression',\n",
    "             'Ridge Regression',\n",
    "             'Lasso Regression']\n",
    "\n",
    "all_model"
   ]
  },
  {
   "cell_type": "code",
   "execution_count": 9,
   "metadata": {
    "scrolled": true
   },
   "outputs": [
    {
     "data": {
      "text/html": [
       "<div>\n",
       "<style scoped>\n",
       "    .dataframe tbody tr th:only-of-type {\n",
       "        vertical-align: middle;\n",
       "    }\n",
       "\n",
       "    .dataframe tbody tr th {\n",
       "        vertical-align: top;\n",
       "    }\n",
       "\n",
       "    .dataframe thead th {\n",
       "        text-align: right;\n",
       "    }\n",
       "</style>\n",
       "<table border=\"1\" class=\"dataframe\">\n",
       "  <thead>\n",
       "    <tr style=\"text-align: right;\">\n",
       "      <th></th>\n",
       "      <th>model</th>\n",
       "      <th>RMSE</th>\n",
       "      <th>Coef_Variance</th>\n",
       "      <th>R-Square_Train</th>\n",
       "      <th>R-Square_Test</th>\n",
       "      <th>R-Square_Gap</th>\n",
       "    </tr>\n",
       "  </thead>\n",
       "  <tbody>\n",
       "    <tr>\n",
       "      <th>0</th>\n",
       "      <td>LinearRegression</td>\n",
       "      <td>38619.203036</td>\n",
       "      <td>0.137561</td>\n",
       "      <td>0.694089</td>\n",
       "      <td>0.702033</td>\n",
       "      <td>0.007944</td>\n",
       "    </tr>\n",
       "    <tr>\n",
       "      <th>1</th>\n",
       "      <td>Ridge Regression</td>\n",
       "      <td>36873.631636</td>\n",
       "      <td>0.131344</td>\n",
       "      <td>0.692009</td>\n",
       "      <td>0.728361</td>\n",
       "      <td>0.036352</td>\n",
       "    </tr>\n",
       "    <tr>\n",
       "      <th>2</th>\n",
       "      <td>Lasso Regression</td>\n",
       "      <td>38604.398114</td>\n",
       "      <td>0.137509</td>\n",
       "      <td>0.694089</td>\n",
       "      <td>0.702262</td>\n",
       "      <td>0.008173</td>\n",
       "    </tr>\n",
       "  </tbody>\n",
       "</table>\n",
       "</div>"
      ],
      "text/plain": [
       "              model          RMSE  Coef_Variance  R-Square_Train  \\\n",
       "0  LinearRegression  38619.203036       0.137561        0.694089   \n",
       "1  Ridge Regression  36873.631636       0.131344        0.692009   \n",
       "2  Lasso Regression  38604.398114       0.137509        0.694089   \n",
       "\n",
       "   R-Square_Test  R-Square_Gap  \n",
       "0       0.702033      0.007944  \n",
       "1       0.728361      0.036352  \n",
       "2       0.702262      0.008173  "
      ]
     },
     "execution_count": 9,
     "metadata": {},
     "output_type": "execute_result"
    }
   ],
   "source": [
    "R2_train = []\n",
    "R2_test = []\n",
    "RMSE =[]\n",
    "CV =[]\n",
    "\n",
    "for i in all_model:\n",
    "    model = i()\n",
    "    model.fit(X_train,y_train)\n",
    "    y_pred=model.predict(X_test)\n",
    "    R2_train.append(model.score(X_train,y_train))\n",
    "    R2_test.append(model.score(X_test,y_test))\n",
    "    rmse=np.sqrt(mean_squared_error(y_test, y_pred))\n",
    "    RMSE.append(rmse)\n",
    "    CV.append(rmse/data['totalprice'].mean())\n",
    "    \n",
    "## compare model each other\n",
    "Eval = pd.DataFrame()\n",
    "Eval['model'] = desc_model\n",
    "Eval['RMSE'] = RMSE\n",
    "Eval['Coef_Variance']= CV\n",
    "Eval['R-Square_Train'] = R2_train\n",
    "Eval['R-Square_Test'] = R2_test\n",
    "Eval['R-Square_Gap'] = abs(Eval['R-Square_Train'] -Eval['R-Square_Test'])\n",
    "Eval\n",
    "#Eval.sort_values(by='R-Square_Gap',ascending=True)"
   ]
  },
  {
   "cell_type": "markdown",
   "metadata": {},
   "source": [
    "# 4. Variable Selection"
   ]
  },
  {
   "cell_type": "markdown",
   "metadata": {},
   "source": [
    "\n",
    "1. Before modelling, we should define target variable and the feature. Target Varable would be 'Totalprice', while the features are all the variable except 'totalprice'\n",
    "\n",
    "2. From the Data Exploration of Categorical Variabel that have been compared by Price, we can see that Variable Out and Street Category have no siginificant different each type when compared by price in the boxplot. So, we Drop Variable 'Out' and 'Street' from the Features\n",
    "\n",
    "### Feature Selection Technique :\n",
    "- EDA\n",
    "- Correlation Matrix\n",
    "- Pvalue (Linear Regression Model)\n",
    "- Backward Elimination\n"
   ]
  },
  {
   "cell_type": "markdown",
   "metadata": {},
   "source": [
    "# 1. Variable Selection Using EDA\n",
    "## Feature VS Target Variable"
   ]
  },
  {
   "cell_type": "code",
   "execution_count": 10,
   "metadata": {
    "scrolled": true
   },
   "outputs": [
    {
     "data": {
      "image/png": "[encoded data removed]",
      "text/plain": [
       "<matplotlib.figure.Figure at 0x1ed684fd668>"
      ]
     },
     "metadata": {},
     "output_type": "display_data"
    },
    {
     "data": {
      "image/png": "[encoded data removed]",
      "text/plain": [
       "<matplotlib.figure.Figure at 0x1ed685fc4e0>"
      ]
     },
     "metadata": {},
     "output_type": "display_data"
    },
    {
     "data": {
      "image/png": "[encoded data removed]",
      "text/plain": [
       "<matplotlib.figure.Figure at 0x1ed6917b358>"
      ]
     },
     "metadata": {},
     "output_type": "display_data"
    }
   ],
   "source": [
    "## Price Compared by Street Category, Category, and Out\n",
    "\n",
    "f=plt.figure(figsize=(18,15))\n",
    "# Distribution off Age\n",
    "f.add_subplot(3,3,1)\n",
    "c=sns.boxplot(y=data['totalprice'],x=data['streetcategory'], order=['S2','S3','S4','S5'])\n",
    "c.set_xlabel(\"Price X streetCategory\", fontsize=15)\n",
    "\n",
    "f.add_subplot(3,3,2)\n",
    "c=sns.boxplot(y=data['totalprice'],x=data['category'], order=['2A','2B','3A','3B','4A','4B','5A'])\n",
    "c.set_xlabel(\"Price X category\", fontsize=15)\n",
    "\n",
    "f.add_subplot(3,3,3)\n",
    "c=sns.boxplot(y=data['totalprice'],x=data['out'],order=['E25','E50','E75','E100'])\n",
    "c.set_xlabel(\"Price X out\", fontsize=15)\n",
    "\n",
    "f=plt.figure(figsize=(18,15))\n",
    "f.add_subplot(3,3,4)\n",
    "c=sns.boxplot(y=data['totalprice'],x=data['conservation'], order=['1A','2A','2B','3A'])\n",
    "c.set_xlabel(\"Price X consevation\", fontsize=15)\n",
    "\n",
    "f.add_subplot(3,3,5)\n",
    "c=sns.boxplot(y=data['totalprice'],x=data['floor'])\n",
    "c.set_xlabel(\"Price X floor\", fontsize=15)\n",
    "\n",
    "f.add_subplot(3,3,6)\n",
    "c=sns.boxplot(y=data['totalprice'],x=data['elevator'])\n",
    "c.set_xlabel(\"Price X elevator\", fontsize=15)\n",
    "\n",
    "\n",
    "\n",
    "\n",
    "f=plt.figure(figsize=(18,15))\n",
    "f.add_subplot(3,3,7)\n",
    "c=sns.boxplot(y=data['totalprice'],x=data['garage'])\n",
    "c.set_xlabel(\"Price X garage\", fontsize=15)\n",
    "\n",
    "f.add_subplot(3,3,8)\n",
    "c=sns.boxplot(y=data['totalprice'],x=data['toilets'])\n",
    "c.set_xlabel(\"Price X Toilets\", fontsize=15)\n",
    "\n",
    "f.add_subplot(3,3,9)\n",
    "c=sns.boxplot(y=data['totalprice'],x=data['tras'])\n",
    "c.set_xlabel(\"Price X Tras\", fontsize=15)\n",
    "\n",
    "\n",
    "plt.show()"
   ]
  },
  {
   "cell_type": "markdown",
   "metadata": {},
   "source": [
    "## Modelling - FeatureSelection 1"
   ]
  },
  {
   "cell_type": "code",
   "execution_count": 11,
   "metadata": {},
   "outputs": [
    {
     "data": {
      "text/html": [
       "<div>\n",
       "<style scoped>\n",
       "    .dataframe tbody tr th:only-of-type {\n",
       "        vertical-align: middle;\n",
       "    }\n",
       "\n",
       "    .dataframe tbody tr th {\n",
       "        vertical-align: top;\n",
       "    }\n",
       "\n",
       "    .dataframe thead th {\n",
       "        text-align: right;\n",
       "    }\n",
       "</style>\n",
       "<table border=\"1\" class=\"dataframe\">\n",
       "  <thead>\n",
       "    <tr style=\"text-align: right;\">\n",
       "      <th></th>\n",
       "      <th>model</th>\n",
       "      <th>RMSE</th>\n",
       "      <th>Coef_Variance</th>\n",
       "      <th>R-Square_Train</th>\n",
       "      <th>R-Square_Test</th>\n",
       "      <th>R-Square_Gap</th>\n",
       "    </tr>\n",
       "  </thead>\n",
       "  <tbody>\n",
       "    <tr>\n",
       "      <th>0</th>\n",
       "      <td>LinearRegression</td>\n",
       "      <td>36019.895673</td>\n",
       "      <td>0.128303</td>\n",
       "      <td>0.689168</td>\n",
       "      <td>0.740794</td>\n",
       "      <td>0.051626</td>\n",
       "    </tr>\n",
       "    <tr>\n",
       "      <th>1</th>\n",
       "      <td>Ridge Regression</td>\n",
       "      <td>35700.143688</td>\n",
       "      <td>0.127164</td>\n",
       "      <td>0.688180</td>\n",
       "      <td>0.745375</td>\n",
       "      <td>0.057195</td>\n",
       "    </tr>\n",
       "    <tr>\n",
       "      <th>2</th>\n",
       "      <td>Lasso Regression</td>\n",
       "      <td>36018.318451</td>\n",
       "      <td>0.128297</td>\n",
       "      <td>0.689168</td>\n",
       "      <td>0.740816</td>\n",
       "      <td>0.051649</td>\n",
       "    </tr>\n",
       "  </tbody>\n",
       "</table>\n",
       "</div>"
      ],
      "text/plain": [
       "              model          RMSE  Coef_Variance  R-Square_Train  \\\n",
       "0  LinearRegression  36019.895673       0.128303        0.689168   \n",
       "1  Ridge Regression  35700.143688       0.127164        0.688180   \n",
       "2  Lasso Regression  36018.318451       0.128297        0.689168   \n",
       "\n",
       "   R-Square_Test  R-Square_Gap  \n",
       "0       0.740794      0.051626  \n",
       "1       0.745375      0.057195  \n",
       "2       0.740816      0.051649  "
      ]
     },
     "execution_count": 11,
     "metadata": {},
     "output_type": "execute_result"
    }
   ],
   "source": [
    "y=(data['totalprice'])\n",
    "X=data.drop(['totalprice','out','zone'],1)\n",
    "\n",
    "X=pd.get_dummies(X)\n",
    "X.head()\n",
    "\n",
    "from sklearn.model_selection import train_test_split\n",
    "X_train,X_test,y_train,y_test = train_test_split(X,y,test_size = 0.3,random_state=1)\n",
    "\n",
    "R2_train = []\n",
    "R2_test = []\n",
    "RMSE =[]\n",
    "CV =[]\n",
    "\n",
    "for i in all_model:\n",
    "    model = i()\n",
    "    model.fit(X_train,y_train)\n",
    "    y_pred=model.predict(X_test)\n",
    "    R2_train.append(model.score(X_train,y_train))\n",
    "    R2_test.append(model.score(X_test,y_test))\n",
    "    rmse=np.sqrt(mean_squared_error(y_test, y_pred))\n",
    "    RMSE.append(rmse)\n",
    "    CV.append(rmse/data['totalprice'].mean())\n",
    "    \n",
    "## compare model each other\n",
    "Eval = pd.DataFrame()\n",
    "Eval['model'] = desc_model\n",
    "Eval['RMSE'] = RMSE\n",
    "Eval['Coef_Variance']= CV\n",
    "Eval['R-Square_Train'] = R2_train\n",
    "Eval['R-Square_Test'] = R2_test\n",
    "Eval['R-Square_Gap'] = abs(Eval['R-Square_Train'] -Eval['R-Square_Test'])\n",
    "Eval\n",
    "#Eval.sort_values(by='R-Square_Gap',ascending=True)"
   ]
  },
  {
   "cell_type": "markdown",
   "metadata": {},
   "source": [
    "# 2. Variable Selection Using Correlation Matrix"
   ]
  },
  {
   "cell_type": "code",
   "execution_count": 12,
   "metadata": {},
   "outputs": [
    {
     "data": {
      "text/plain": [
       "<matplotlib.axes._subplots.AxesSubplot at 0x1ed68673d30>"
      ]
     },
     "execution_count": 12,
     "metadata": {},
     "output_type": "execute_result"
    },
    {
     "data": {
      "image/png": "[encoded data removed]",
      "text/plain": [
       "<matplotlib.figure.Figure at 0x1ed68003ac8>"
      ]
     },
     "metadata": {},
     "output_type": "display_data"
    }
   ],
   "source": [
    "#Next step, we should choose numerical data first\n",
    "plt.figure(figsize=(10,7))\n",
    "sns.heatmap(numerik.corr(),annot=True)"
   ]
  },
  {
   "cell_type": "markdown",
   "metadata": {},
   "source": [
    "## Modelling - FeatureSelection 2"
   ]
  },
  {
   "cell_type": "code",
   "execution_count": 13,
   "metadata": {},
   "outputs": [
    {
     "data": {
      "text/html": [
       "<div>\n",
       "<style scoped>\n",
       "    .dataframe tbody tr th:only-of-type {\n",
       "        vertical-align: middle;\n",
       "    }\n",
       "\n",
       "    .dataframe tbody tr th {\n",
       "        vertical-align: top;\n",
       "    }\n",
       "\n",
       "    .dataframe thead th {\n",
       "        text-align: right;\n",
       "    }\n",
       "</style>\n",
       "<table border=\"1\" class=\"dataframe\">\n",
       "  <thead>\n",
       "    <tr style=\"text-align: right;\">\n",
       "      <th></th>\n",
       "      <th>model</th>\n",
       "      <th>RMSE</th>\n",
       "      <th>Coef_Variance</th>\n",
       "      <th>R-Square_Train</th>\n",
       "      <th>R-Square_Test</th>\n",
       "      <th>R-Square_Gap</th>\n",
       "    </tr>\n",
       "  </thead>\n",
       "  <tbody>\n",
       "    <tr>\n",
       "      <th>0</th>\n",
       "      <td>LinearRegression</td>\n",
       "      <td>33099.200183</td>\n",
       "      <td>0.117899</td>\n",
       "      <td>0.670008</td>\n",
       "      <td>0.781125</td>\n",
       "      <td>0.111117</td>\n",
       "    </tr>\n",
       "    <tr>\n",
       "      <th>1</th>\n",
       "      <td>Ridge Regression</td>\n",
       "      <td>32835.786557</td>\n",
       "      <td>0.116961</td>\n",
       "      <td>0.669005</td>\n",
       "      <td>0.784595</td>\n",
       "      <td>0.115590</td>\n",
       "    </tr>\n",
       "    <tr>\n",
       "      <th>2</th>\n",
       "      <td>Lasso Regression</td>\n",
       "      <td>33098.259231</td>\n",
       "      <td>0.117896</td>\n",
       "      <td>0.670008</td>\n",
       "      <td>0.781138</td>\n",
       "      <td>0.111130</td>\n",
       "    </tr>\n",
       "  </tbody>\n",
       "</table>\n",
       "</div>"
      ],
      "text/plain": [
       "              model          RMSE  Coef_Variance  R-Square_Train  \\\n",
       "0  LinearRegression  33099.200183       0.117899        0.670008   \n",
       "1  Ridge Regression  32835.786557       0.116961        0.669005   \n",
       "2  Lasso Regression  33098.259231       0.117896        0.670008   \n",
       "\n",
       "   R-Square_Test  R-Square_Gap  \n",
       "0       0.781125      0.111117  \n",
       "1       0.784595      0.115590  \n",
       "2       0.781138      0.111130  "
      ]
     },
     "execution_count": 13,
     "metadata": {},
     "output_type": "execute_result"
    }
   ],
   "source": [
    "y=(data['totalprice'])\n",
    "X=data.drop(['totalprice','out','zone','floor'],1)\n",
    "\n",
    "X=pd.get_dummies(X)\n",
    "X.head()\n",
    "\n",
    "from sklearn.model_selection import train_test_split\n",
    "X_train,X_test,y_train,y_test = train_test_split(X,y,test_size = 0.3,random_state=1)\n",
    "\n",
    "R2_train = []\n",
    "R2_test = []\n",
    "RMSE =[]\n",
    "CV =[]\n",
    "\n",
    "for i in all_model:\n",
    "    model = i()\n",
    "    model.fit(X_train,y_train)\n",
    "    y_pred=model.predict(X_test)\n",
    "    R2_train.append(model.score(X_train,y_train))\n",
    "    R2_test.append(model.score(X_test,y_test))\n",
    "    rmse=np.sqrt(mean_squared_error(y_test, y_pred))\n",
    "    RMSE.append(rmse)\n",
    "    CV.append(rmse/data['totalprice'].mean())\n",
    "    \n",
    "## compare model each other\n",
    "Eval = pd.DataFrame()\n",
    "Eval['model'] = desc_model\n",
    "Eval['RMSE'] = RMSE\n",
    "Eval['Coef_Variance']= CV\n",
    "Eval['R-Square_Train'] = R2_train\n",
    "Eval['R-Square_Test'] = R2_test\n",
    "Eval['R-Square_Gap'] = abs(Eval['R-Square_Train'] -Eval['R-Square_Test'])\n",
    "Eval\n",
    "#Eval.sort_values(by='R-Square_Gap',ascending=True)"
   ]
  },
  {
   "cell_type": "code",
   "execution_count": null,
   "metadata": {},
   "outputs": [],
   "source": []
  },
  {
   "cell_type": "markdown",
   "metadata": {},
   "source": [
    "# 3. Variable Selection Using P-Value from Linear Regression"
   ]
  },
  {
   "cell_type": "code",
   "execution_count": 14,
   "metadata": {},
   "outputs": [],
   "source": [
    "import patsy\n",
    "import statsmodels.api as sm\n",
    "import matplotlib.pyplot as plt\n",
    "import scipy.stats as stats"
   ]
  },
  {
   "cell_type": "code",
   "execution_count": 15,
   "metadata": {},
   "outputs": [],
   "source": [
    "y=(data['totalprice'])\n",
    "X=data.drop(['totalprice','zone'],1)\n",
    "\n",
    "X=pd.get_dummies(X)\n",
    "\n",
    "X= sm.add_constant(X)\n",
    "model = sm.OLS(y, X).fit()\n",
    "predictions = model.predict(X)"
   ]
  },
  {
   "cell_type": "code",
   "execution_count": 16,
   "metadata": {},
   "outputs": [
    {
     "name": "stdout",
     "output_type": "stream",
     "text": [
      "                            OLS Regression Results                            \n",
      "==============================================================================\n",
      "Dep. Variable:             totalprice   R-squared:                       0.728\n",
      "Model:                            OLS   Adj. R-squared:                  0.691\n",
      "Method:                 Least Squares   F-statistic:                     19.68\n",
      "Date:                Wed, 16 Oct 2019   Prob (F-statistic):           5.67e-41\n",
      "Time:                        06:43:16   Log-Likelihood:                -2596.7\n",
      "No. Observations:                 218   AIC:                             5247.\n",
      "Df Residuals:                     191   BIC:                             5339.\n",
      "Df Model:                          26                                         \n",
      "Covariance Type:            nonrobust                                         \n",
      "=====================================================================================\n",
      "                        coef    std err          t      P>|t|      [0.025      0.975]\n",
      "-------------------------------------------------------------------------------------\n",
      "const              5.929e+04   1.43e+04      4.158      0.000    3.12e+04    8.74e+04\n",
      "area               -2.93e-06    8.7e-07     -3.369      0.001   -4.64e-06   -1.21e-06\n",
      "age                 135.1414    266.231      0.508      0.612    -389.989     660.272\n",
      "floor             -3153.6706   1323.748     -2.382      0.018   -5764.713    -542.628\n",
      "rooms              2.142e+04   5076.304      4.219      0.000    1.14e+04    3.14e+04\n",
      "toilets            3.445e+04   8228.871      4.186      0.000    1.82e+04    5.07e+04\n",
      "garage             2.584e+04   6829.971      3.783      0.000    1.24e+04    3.93e+04\n",
      "elevator           3.146e+04   8977.614      3.505      0.001    1.38e+04    4.92e+04\n",
      "tras               1.565e+04   7503.305      2.085      0.038     847.112    3.04e+04\n",
      "category_2A        5.139e+04   2.08e+04      2.466      0.015    1.03e+04    9.25e+04\n",
      "category_2B        4.193e+04    1.2e+04      3.496      0.001    1.83e+04    6.56e+04\n",
      "category_3A        1.076e+04   9011.884      1.194      0.234   -7019.261    2.85e+04\n",
      "category_3B        2070.5597   7721.261      0.268      0.789   -1.32e+04    1.73e+04\n",
      "category_4A         336.8850   9008.787      0.037      0.970   -1.74e+04    1.81e+04\n",
      "category_4B       -1.393e+04   9963.142     -1.398      0.164   -3.36e+04    5721.161\n",
      "category_5A       -3.327e+04   2.95e+04     -1.126      0.261   -9.15e+04     2.5e+04\n",
      "out_E100           5739.4811   8091.038      0.709      0.479   -1.02e+04    2.17e+04\n",
      "out_E25            2.901e+04   1.98e+04      1.466      0.144      -1e+04     6.8e+04\n",
      "out_E50            7971.9098   8429.546      0.946      0.345   -8655.048    2.46e+04\n",
      "out_E75            1.657e+04    1.4e+04      1.180      0.240   -1.11e+04    4.43e+04\n",
      "conservation_1A        2e+04   7881.619      2.537      0.012    4452.840    3.55e+04\n",
      "conservation_2A    1.932e+04   1.02e+04      1.891      0.060    -837.158    3.95e+04\n",
      "conservation_2B    1.206e+04   8997.605      1.341      0.182   -5685.837    2.98e+04\n",
      "conservation_3A    7913.8570   1.99e+04      0.398      0.691   -3.13e+04    4.71e+04\n",
      "streetcategory_S2  3806.4854   7365.417      0.517      0.606   -1.07e+04    1.83e+04\n",
      "streetcategory_S3 -7056.7896   5288.139     -1.334      0.184   -1.75e+04    3373.864\n",
      "streetcategory_S4  1.658e+04   6473.234      2.561      0.011    3811.472    2.93e+04\n",
      "streetcategory_S5  4.597e+04   1.06e+04      4.327      0.000     2.5e+04    6.69e+04\n",
      "heating_1A         5377.1562    1.6e+04      0.336      0.737   -2.62e+04    3.69e+04\n",
      "heating_3A         1.341e+04   7314.901      1.834      0.068   -1015.168    2.78e+04\n",
      "heating_3B         1.572e+04    1.3e+04      1.212      0.227   -9864.121    4.13e+04\n",
      "heating_4A         2.479e+04   8948.017      2.770      0.006    7135.476    4.24e+04\n",
      "==============================================================================\n",
      "Omnibus:                       37.997   Durbin-Watson:                   2.160\n",
      "Prob(Omnibus):                  0.000   Jarque-Bera (JB):               90.792\n",
      "Skew:                           0.786   Prob(JB):                     1.93e-20\n",
      "Kurtosis:                       5.742   Cond. No.                     1.15e+17\n",
      "==============================================================================\n",
      "\n",
      "Warnings:\n",
      "[1] Standard Errors assume that the covariance matrix of the errors is correctly specified.\n",
      "[2] The smallest eigenvalue is 7.36e-13. This might indicate that there are\n",
      "strong multicollinearity problems or that the design matrix is singular.\n"
     ]
    }
   ],
   "source": [
    "print(model.summary())"
   ]
  },
  {
   "cell_type": "code",
   "execution_count": 17,
   "metadata": {},
   "outputs": [],
   "source": [
    "#model.pvalues"
   ]
  },
  {
   "cell_type": "markdown",
   "metadata": {},
   "source": [
    "##  Modelling FeatureSelection 3"
   ]
  },
  {
   "cell_type": "code",
   "execution_count": 18,
   "metadata": {},
   "outputs": [
    {
     "data": {
      "text/html": [
       "<div>\n",
       "<style scoped>\n",
       "    .dataframe tbody tr th:only-of-type {\n",
       "        vertical-align: middle;\n",
       "    }\n",
       "\n",
       "    .dataframe tbody tr th {\n",
       "        vertical-align: top;\n",
       "    }\n",
       "\n",
       "    .dataframe thead th {\n",
       "        text-align: right;\n",
       "    }\n",
       "</style>\n",
       "<table border=\"1\" class=\"dataframe\">\n",
       "  <thead>\n",
       "    <tr style=\"text-align: right;\">\n",
       "      <th></th>\n",
       "      <th>model</th>\n",
       "      <th>RMSE</th>\n",
       "      <th>Coef_Variance</th>\n",
       "      <th>R-Square_Train</th>\n",
       "      <th>R-Square_Test</th>\n",
       "      <th>R-Square_Gap</th>\n",
       "    </tr>\n",
       "  </thead>\n",
       "  <tbody>\n",
       "    <tr>\n",
       "      <th>0</th>\n",
       "      <td>LinearRegression</td>\n",
       "      <td>32868.682183</td>\n",
       "      <td>0.117078</td>\n",
       "      <td>0.669027</td>\n",
       "      <td>0.784163</td>\n",
       "      <td>0.115136</td>\n",
       "    </tr>\n",
       "    <tr>\n",
       "      <th>1</th>\n",
       "      <td>Ridge Regression</td>\n",
       "      <td>32713.788623</td>\n",
       "      <td>0.116526</td>\n",
       "      <td>0.668247</td>\n",
       "      <td>0.786193</td>\n",
       "      <td>0.117946</td>\n",
       "    </tr>\n",
       "    <tr>\n",
       "      <th>2</th>\n",
       "      <td>Lasso Regression</td>\n",
       "      <td>32869.406157</td>\n",
       "      <td>0.117081</td>\n",
       "      <td>0.669027</td>\n",
       "      <td>0.784154</td>\n",
       "      <td>0.115127</td>\n",
       "    </tr>\n",
       "  </tbody>\n",
       "</table>\n",
       "</div>"
      ],
      "text/plain": [
       "              model          RMSE  Coef_Variance  R-Square_Train  \\\n",
       "0  LinearRegression  32868.682183       0.117078        0.669027   \n",
       "1  Ridge Regression  32713.788623       0.116526        0.668247   \n",
       "2  Lasso Regression  32869.406157       0.117081        0.669027   \n",
       "\n",
       "   R-Square_Test  R-Square_Gap  \n",
       "0       0.784163      0.115136  \n",
       "1       0.786193      0.117946  \n",
       "2       0.784154      0.115127  "
      ]
     },
     "execution_count": 18,
     "metadata": {},
     "output_type": "execute_result"
    }
   ],
   "source": [
    "y=(data['totalprice'])\n",
    "X=data.drop(['totalprice','out','zone','floor','age'],1)\n",
    "\n",
    "X=pd.get_dummies(X)\n",
    "X.head()\n",
    "\n",
    "from sklearn.model_selection import train_test_split\n",
    "X_train,X_test,y_train,y_test = train_test_split(X,y,test_size = 0.3,random_state=1)\n",
    "\n",
    "R2_train = []\n",
    "R2_test = []\n",
    "RMSE =[]\n",
    "CV =[]\n",
    "\n",
    "for i in all_model:\n",
    "    model = i()\n",
    "    model.fit(X_train,y_train)\n",
    "    y_pred=model.predict(X_test)\n",
    "    R2_train.append(model.score(X_train,y_train))\n",
    "    R2_test.append(model.score(X_test,y_test))\n",
    "    rmse=np.sqrt(mean_squared_error(y_test, y_pred))\n",
    "    RMSE.append(rmse)\n",
    "    CV.append(rmse/data['totalprice'].mean())\n",
    "    \n",
    "## compare model each other\n",
    "Eval = pd.DataFrame()\n",
    "Eval['model'] = desc_model\n",
    "Eval['RMSE'] = RMSE\n",
    "Eval['Coef_Variance']= CV\n",
    "Eval['R-Square_Train'] = R2_train\n",
    "Eval['R-Square_Test'] = R2_test\n",
    "Eval['R-Square_Gap'] = abs(Eval['R-Square_Train'] -Eval['R-Square_Test'])\n",
    "Eval\n",
    "#Eval.sort_values(by='R-Square_Gap',ascending=True)"
   ]
  },
  {
   "cell_type": "markdown",
   "metadata": {},
   "source": [
    "# 4. Feature Selection Using Backwards Elimination"
   ]
  },
  {
   "cell_type": "code",
   "execution_count": 19,
   "metadata": {},
   "outputs": [
    {
     "name": "stdout",
     "output_type": "stream",
     "text": [
      "['area', 'rooms', 'toilets', 'garage', 'elevator', 'tras', 'zone_Z21', 'zone_Z31', 'zone_Z35', 'zone_Z37', 'zone_Z41', 'zone_Z42', 'zone_Z47', 'zone_Z52', 'category_2A', 'category_2B', 'category_3A', 'category_3B', 'category_4A', 'heating_4A']\n"
     ]
    }
   ],
   "source": [
    "y=(data['totalprice'])\n",
    "X=data.drop(['totalprice'],1)\n",
    "\n",
    "X=pd.get_dummies(X)\n",
    "\n",
    "#X= sm.add_constant(X)\n",
    "model = sm.OLS(y, X).fit()\n",
    "predictions = model.predict(X)\n",
    "#Backward Elimination\n",
    "cols = list(X.columns)\n",
    "pmax = 1\n",
    "while (len(cols)>0):\n",
    "    p= []\n",
    "    X_1 = X[cols]\n",
    "    X_1 = sm.add_constant(X_1)\n",
    "    model = sm.OLS(y,X_1).fit()\n",
    "    p = pd.Series(model.pvalues.values[1:],index = cols)      \n",
    "    pmax = max(p)\n",
    "    feature_with_p_max = p.idxmax()\n",
    "    if(pmax>0.05):\n",
    "        cols.remove(feature_with_p_max)\n",
    "    else:\n",
    "        break\n",
    "selected_features_BE = cols\n",
    "print(selected_features_BE)"
   ]
  },
  {
   "cell_type": "markdown",
   "metadata": {},
   "source": [
    "# Modelling FeatureSelection 5"
   ]
  },
  {
   "cell_type": "code",
   "execution_count": 20,
   "metadata": {},
   "outputs": [
    {
     "data": {
      "text/html": [
       "<div>\n",
       "<style scoped>\n",
       "    .dataframe tbody tr th:only-of-type {\n",
       "        vertical-align: middle;\n",
       "    }\n",
       "\n",
       "    .dataframe tbody tr th {\n",
       "        vertical-align: top;\n",
       "    }\n",
       "\n",
       "    .dataframe thead th {\n",
       "        text-align: right;\n",
       "    }\n",
       "</style>\n",
       "<table border=\"1\" class=\"dataframe\">\n",
       "  <thead>\n",
       "    <tr style=\"text-align: right;\">\n",
       "      <th></th>\n",
       "      <th>model</th>\n",
       "      <th>RMSE</th>\n",
       "      <th>Coef_Variance</th>\n",
       "      <th>R-Square_Train</th>\n",
       "      <th>R-Square_Test</th>\n",
       "      <th>R-Square_Gap</th>\n",
       "    </tr>\n",
       "  </thead>\n",
       "  <tbody>\n",
       "    <tr>\n",
       "      <th>0</th>\n",
       "      <td>LinearRegression</td>\n",
       "      <td>25606.732377</td>\n",
       "      <td>0.091211</td>\n",
       "      <td>0.841013</td>\n",
       "      <td>0.869001</td>\n",
       "      <td>0.027988</td>\n",
       "    </tr>\n",
       "    <tr>\n",
       "      <th>1</th>\n",
       "      <td>Ridge Regression</td>\n",
       "      <td>26330.470273</td>\n",
       "      <td>0.093789</td>\n",
       "      <td>0.832960</td>\n",
       "      <td>0.861491</td>\n",
       "      <td>0.028531</td>\n",
       "    </tr>\n",
       "    <tr>\n",
       "      <th>2</th>\n",
       "      <td>Lasso Regression</td>\n",
       "      <td>25607.021578</td>\n",
       "      <td>0.091212</td>\n",
       "      <td>0.841012</td>\n",
       "      <td>0.868998</td>\n",
       "      <td>0.027985</td>\n",
       "    </tr>\n",
       "  </tbody>\n",
       "</table>\n",
       "</div>"
      ],
      "text/plain": [
       "              model          RMSE  Coef_Variance  R-Square_Train  \\\n",
       "0  LinearRegression  25606.732377       0.091211        0.841013   \n",
       "1  Ridge Regression  26330.470273       0.093789        0.832960   \n",
       "2  Lasso Regression  25607.021578       0.091212        0.841012   \n",
       "\n",
       "   R-Square_Test  R-Square_Gap  \n",
       "0       0.869001      0.027988  \n",
       "1       0.861491      0.028531  \n",
       "2       0.868998      0.027985  "
      ]
     },
     "execution_count": 20,
     "metadata": {},
     "output_type": "execute_result"
    }
   ],
   "source": [
    "y=(data['totalprice'])\n",
    "X=data.drop(['totalprice'],1)\n",
    "\n",
    "X=pd.get_dummies(X)\n",
    "#X=X[['area', 'rooms', 'toilets', 'garage', 'elevator', 'tras', 'zone_Z21', 'zone_Z31', 'zone_Z35', 'zone_Z37', 'zone_Z41', 'zone_Z42', \n",
    "#     'zone_Z47', 'zone_Z52', 'category_2A', 'category_2B', 'category_3A', 'category_3B', 'category_4A', 'heating_4A']]\n",
    "X=X[selected_features_BE]\n",
    "X.head()\n",
    "\n",
    "from sklearn.model_selection import train_test_split\n",
    "X_train,X_test,y_train,y_test = train_test_split(X,y,test_size = 0.3,random_state=1)\n",
    "\n",
    "R2_train = []\n",
    "R2_test = []\n",
    "RMSE =[]\n",
    "CV =[]\n",
    "\n",
    "for i in all_model:\n",
    "    model = i()\n",
    "    model.fit(X_train,y_train)\n",
    "    y_pred=model.predict(X_test)\n",
    "    R2_train.append(model.score(X_train,y_train))\n",
    "    R2_test.append(model.score(X_test,y_test))\n",
    "    rmse=np.sqrt(mean_squared_error(y_test, y_pred))\n",
    "    RMSE.append(rmse)\n",
    "    CV.append(rmse/data['totalprice'].mean())\n",
    "    \n",
    "## compare model each other\n",
    "Eval = pd.DataFrame()\n",
    "Eval['model'] = desc_model\n",
    "Eval['RMSE'] = RMSE\n",
    "Eval['Coef_Variance']= CV\n",
    "Eval['R-Square_Train'] = R2_train\n",
    "Eval['R-Square_Test'] = R2_test\n",
    "Eval['R-Square_Gap'] = abs(Eval['R-Square_Train'] -Eval['R-Square_Test'])\n",
    "Eval"
   ]
  },
  {
   "cell_type": "markdown",
   "metadata": {},
   "source": [
    "# Modelling"
   ]
  },
  {
   "cell_type": "markdown",
   "metadata": {},
   "source": [
    "### Define target Variable (X) and the Features(y)"
   ]
  },
  {
   "cell_type": "code",
   "execution_count": 21,
   "metadata": {},
   "outputs": [],
   "source": [
    "y=(data['totalprice'])\n",
    "X=data.drop(['totalprice'],1)\n",
    "\n"
   ]
  },
  {
   "cell_type": "markdown",
   "metadata": {},
   "source": [
    "### Dummy Variable for Categorical Variable"
   ]
  },
  {
   "cell_type": "code",
   "execution_count": 22,
   "metadata": {},
   "outputs": [
    {
     "data": {
      "text/html": [
       "<div>\n",
       "<style scoped>\n",
       "    .dataframe tbody tr th:only-of-type {\n",
       "        vertical-align: middle;\n",
       "    }\n",
       "\n",
       "    .dataframe tbody tr th {\n",
       "        vertical-align: top;\n",
       "    }\n",
       "\n",
       "    .dataframe thead th {\n",
       "        text-align: right;\n",
       "    }\n",
       "</style>\n",
       "<table border=\"1\" class=\"dataframe\">\n",
       "  <thead>\n",
       "    <tr style=\"text-align: right;\">\n",
       "      <th></th>\n",
       "      <th>area</th>\n",
       "      <th>rooms</th>\n",
       "      <th>toilets</th>\n",
       "      <th>garage</th>\n",
       "      <th>elevator</th>\n",
       "      <th>tras</th>\n",
       "      <th>zone_Z21</th>\n",
       "      <th>zone_Z31</th>\n",
       "      <th>zone_Z35</th>\n",
       "      <th>zone_Z37</th>\n",
       "      <th>zone_Z41</th>\n",
       "      <th>zone_Z42</th>\n",
       "      <th>zone_Z47</th>\n",
       "      <th>zone_Z52</th>\n",
       "      <th>category_2A</th>\n",
       "      <th>category_2B</th>\n",
       "      <th>category_3A</th>\n",
       "      <th>category_3B</th>\n",
       "      <th>category_4A</th>\n",
       "      <th>heating_4A</th>\n",
       "    </tr>\n",
       "  </thead>\n",
       "  <tbody>\n",
       "    <tr>\n",
       "      <th>0</th>\n",
       "      <td>7.531000e+09</td>\n",
       "      <td>5</td>\n",
       "      <td>1</td>\n",
       "      <td>0</td>\n",
       "      <td>1</td>\n",
       "      <td>0</td>\n",
       "      <td>0</td>\n",
       "      <td>0</td>\n",
       "      <td>0</td>\n",
       "      <td>0</td>\n",
       "      <td>0</td>\n",
       "      <td>0</td>\n",
       "      <td>0</td>\n",
       "      <td>0</td>\n",
       "      <td>0</td>\n",
       "      <td>0</td>\n",
       "      <td>0</td>\n",
       "      <td>0</td>\n",
       "      <td>0</td>\n",
       "      <td>0</td>\n",
       "    </tr>\n",
       "    <tr>\n",
       "      <th>1</th>\n",
       "      <td>1.006500e+09</td>\n",
       "      <td>5</td>\n",
       "      <td>2</td>\n",
       "      <td>1</td>\n",
       "      <td>1</td>\n",
       "      <td>1</td>\n",
       "      <td>0</td>\n",
       "      <td>1</td>\n",
       "      <td>0</td>\n",
       "      <td>0</td>\n",
       "      <td>0</td>\n",
       "      <td>0</td>\n",
       "      <td>0</td>\n",
       "      <td>0</td>\n",
       "      <td>0</td>\n",
       "      <td>0</td>\n",
       "      <td>0</td>\n",
       "      <td>1</td>\n",
       "      <td>0</td>\n",
       "      <td>1</td>\n",
       "    </tr>\n",
       "    <tr>\n",
       "      <th>2</th>\n",
       "      <td>8.887000e+09</td>\n",
       "      <td>5</td>\n",
       "      <td>2</td>\n",
       "      <td>0</td>\n",
       "      <td>1</td>\n",
       "      <td>0</td>\n",
       "      <td>0</td>\n",
       "      <td>0</td>\n",
       "      <td>0</td>\n",
       "      <td>0</td>\n",
       "      <td>0</td>\n",
       "      <td>0</td>\n",
       "      <td>0</td>\n",
       "      <td>1</td>\n",
       "      <td>0</td>\n",
       "      <td>0</td>\n",
       "      <td>1</td>\n",
       "      <td>0</td>\n",
       "      <td>0</td>\n",
       "      <td>0</td>\n",
       "    </tr>\n",
       "    <tr>\n",
       "      <th>3</th>\n",
       "      <td>6.261000e+09</td>\n",
       "      <td>4</td>\n",
       "      <td>1</td>\n",
       "      <td>0</td>\n",
       "      <td>0</td>\n",
       "      <td>0</td>\n",
       "      <td>0</td>\n",
       "      <td>0</td>\n",
       "      <td>0</td>\n",
       "      <td>0</td>\n",
       "      <td>0</td>\n",
       "      <td>0</td>\n",
       "      <td>0</td>\n",
       "      <td>0</td>\n",
       "      <td>0</td>\n",
       "      <td>0</td>\n",
       "      <td>0</td>\n",
       "      <td>0</td>\n",
       "      <td>1</td>\n",
       "      <td>0</td>\n",
       "    </tr>\n",
       "    <tr>\n",
       "      <th>4</th>\n",
       "      <td>1.461500e+09</td>\n",
       "      <td>7</td>\n",
       "      <td>2</td>\n",
       "      <td>0</td>\n",
       "      <td>1</td>\n",
       "      <td>1</td>\n",
       "      <td>0</td>\n",
       "      <td>1</td>\n",
       "      <td>0</td>\n",
       "      <td>0</td>\n",
       "      <td>0</td>\n",
       "      <td>0</td>\n",
       "      <td>0</td>\n",
       "      <td>0</td>\n",
       "      <td>0</td>\n",
       "      <td>0</td>\n",
       "      <td>1</td>\n",
       "      <td>0</td>\n",
       "      <td>0</td>\n",
       "      <td>1</td>\n",
       "    </tr>\n",
       "  </tbody>\n",
       "</table>\n",
       "</div>"
      ],
      "text/plain": [
       "           area  rooms  toilets  garage  elevator  tras  zone_Z21  zone_Z31  \\\n",
       "0  7.531000e+09      5        1       0         1     0         0         0   \n",
       "1  1.006500e+09      5        2       1         1     1         0         1   \n",
       "2  8.887000e+09      5        2       0         1     0         0         0   \n",
       "3  6.261000e+09      4        1       0         0     0         0         0   \n",
       "4  1.461500e+09      7        2       0         1     1         0         1   \n",
       "\n",
       "   zone_Z35  zone_Z37  zone_Z41  zone_Z42  zone_Z47  zone_Z52  category_2A  \\\n",
       "0         0         0         0         0         0         0            0   \n",
       "1         0         0         0         0         0         0            0   \n",
       "2         0         0         0         0         0         1            0   \n",
       "3         0         0         0         0         0         0            0   \n",
       "4         0         0         0         0         0         0            0   \n",
       "\n",
       "   category_2B  category_3A  category_3B  category_4A  heating_4A  \n",
       "0            0            0            0            0           0  \n",
       "1            0            0            1            0           1  \n",
       "2            0            1            0            0           0  \n",
       "3            0            0            0            1           0  \n",
       "4            0            1            0            0           1  "
      ]
     },
     "execution_count": 22,
     "metadata": {},
     "output_type": "execute_result"
    }
   ],
   "source": [
    "X=pd.get_dummies(X)\n",
    "X=X[selected_features_BE]\n",
    "X.head()"
   ]
  },
  {
   "cell_type": "markdown",
   "metadata": {},
   "source": [
    "### Split Data Training and Testing"
   ]
  },
  {
   "cell_type": "code",
   "execution_count": 23,
   "metadata": {},
   "outputs": [],
   "source": [
    "from sklearn.model_selection import train_test_split\n",
    "X_train,X_test,y_train,y_test = train_test_split(X,y,test_size = 0.3,random_state=1)"
   ]
  },
  {
   "cell_type": "markdown",
   "metadata": {},
   "source": [
    "### Collect All Possible model \n",
    "Model yang dibandingkan untuk memprediksi harga rumah adalah\n",
    "1. Decision Tree Regresor\n",
    "2. LinearRegression\n",
    "3. Ridge\n",
    "4. Lasso\n",
    "5. KNeighborsRegressor\n",
    "6. SVR\n",
    "7. RandomForestRegressor\n",
    "8. GradientBoostingRegressor"
   ]
  },
  {
   "cell_type": "code",
   "execution_count": 24,
   "metadata": {},
   "outputs": [
    {
     "data": {
      "text/plain": [
       "[sklearn.tree.tree.DecisionTreeRegressor,\n",
       " sklearn.linear_model.base.LinearRegression,\n",
       " sklearn.linear_model.ridge.Ridge,\n",
       " sklearn.linear_model.coordinate_descent.Lasso,\n",
       " sklearn.neighbors.regression.KNeighborsRegressor,\n",
       " sklearn.svm.classes.SVR,\n",
       " sklearn.ensemble.forest.RandomForestRegressor,\n",
       " sklearn.ensemble.gradient_boosting.GradientBoostingRegressor]"
      ]
     },
     "execution_count": 24,
     "metadata": {},
     "output_type": "execute_result"
    }
   ],
   "source": [
    "## collect all model in one list\n",
    "all_model = [DecisionTreeRegressor,\n",
    "            LinearRegression,\n",
    "             Ridge,\n",
    "             Lasso,\n",
    "             KNeighborsRegressor,\n",
    "             SVR,\n",
    "            RandomForestRegressor,\n",
    "            GradientBoostingRegressor]\n",
    "\n",
    "desc_model = ['DecisionTreeRegressor',\n",
    "            'LinearRegression',\n",
    "             'Ridge Regression',\n",
    "             'Lasso Regression',\n",
    "             'KNeighborsRegressor',\n",
    "             'SVR',\n",
    "            'RandomForestRegressor',\n",
    "            'GradientBoostingRegressor']\n",
    "\n",
    "all_model"
   ]
  },
  {
   "cell_type": "markdown",
   "metadata": {},
   "source": [
    "### Modelling"
   ]
  },
  {
   "cell_type": "code",
   "execution_count": 25,
   "metadata": {},
   "outputs": [],
   "source": [
    "R2_train = []\n",
    "R2_test = []\n",
    "RMSE =[]\n",
    "CV =[]\n",
    "\n",
    "for i in all_model:\n",
    "    model = i()\n",
    "    model.fit(X_train,y_train)\n",
    "    y_pred=model.predict(X_test)\n",
    "    R2_train.append(model.score(X_train,y_train))\n",
    "    R2_test.append(model.score(X_test,y_test))\n",
    "    rmse=np.sqrt(mean_squared_error(y_test, y_pred))\n",
    "    RMSE.append(rmse)\n",
    "    CV.append(rmse/data['totalprice'].mean())"
   ]
  },
  {
   "cell_type": "markdown",
   "metadata": {},
   "source": [
    "### Evaluation (Accuration or Error)"
   ]
  },
  {
   "cell_type": "markdown",
   "metadata": {},
   "source": [
    "1. Model Evaluation that would be used to evaluate the model are RMSE,R-sqare, R-square_gap and Coef_Variance\n",
    "2. Semakin kecil RMSE dan Coef_Variance nya, akan semakin bagus modelnya.\n",
    "3. Semakin tinggi dan mendekati 1 nilai R-square nya, maka makan model akan semakin bagus.\n",
    "4. Semakin kecil gap antara R-square train dan test, maka model tersebut semakin tidak overfit"
   ]
  },
  {
   "cell_type": "code",
   "execution_count": 26,
   "metadata": {},
   "outputs": [
    {
     "data": {
      "text/html": [
       "<div>\n",
       "<style scoped>\n",
       "    .dataframe tbody tr th:only-of-type {\n",
       "        vertical-align: middle;\n",
       "    }\n",
       "\n",
       "    .dataframe tbody tr th {\n",
       "        vertical-align: top;\n",
       "    }\n",
       "\n",
       "    .dataframe thead th {\n",
       "        text-align: right;\n",
       "    }\n",
       "</style>\n",
       "<table border=\"1\" class=\"dataframe\">\n",
       "  <thead>\n",
       "    <tr style=\"text-align: right;\">\n",
       "      <th></th>\n",
       "      <th>model</th>\n",
       "      <th>RMSE</th>\n",
       "      <th>Coef_Variance</th>\n",
       "      <th>R-Square_Train</th>\n",
       "      <th>R-Square_Test</th>\n",
       "      <th>R-Square_Gap</th>\n",
       "    </tr>\n",
       "  </thead>\n",
       "  <tbody>\n",
       "    <tr>\n",
       "      <th>3</th>\n",
       "      <td>Lasso Regression</td>\n",
       "      <td>25607.021578</td>\n",
       "      <td>0.091212</td>\n",
       "      <td>0.841012</td>\n",
       "      <td>0.868998</td>\n",
       "      <td>0.027985</td>\n",
       "    </tr>\n",
       "    <tr>\n",
       "      <th>1</th>\n",
       "      <td>LinearRegression</td>\n",
       "      <td>25606.732377</td>\n",
       "      <td>0.091211</td>\n",
       "      <td>0.841013</td>\n",
       "      <td>0.869001</td>\n",
       "      <td>0.027988</td>\n",
       "    </tr>\n",
       "    <tr>\n",
       "      <th>2</th>\n",
       "      <td>Ridge Regression</td>\n",
       "      <td>26330.470273</td>\n",
       "      <td>0.093789</td>\n",
       "      <td>0.832960</td>\n",
       "      <td>0.861491</td>\n",
       "      <td>0.028531</td>\n",
       "    </tr>\n",
       "    <tr>\n",
       "      <th>5</th>\n",
       "      <td>SVR</td>\n",
       "      <td>70822.420834</td>\n",
       "      <td>0.252269</td>\n",
       "      <td>-0.042170</td>\n",
       "      <td>-0.002080</td>\n",
       "      <td>0.040090</td>\n",
       "    </tr>\n",
       "    <tr>\n",
       "      <th>7</th>\n",
       "      <td>GradientBoostingRegressor</td>\n",
       "      <td>23068.024019</td>\n",
       "      <td>0.082168</td>\n",
       "      <td>0.952401</td>\n",
       "      <td>0.893688</td>\n",
       "      <td>0.058713</td>\n",
       "    </tr>\n",
       "    <tr>\n",
       "      <th>4</th>\n",
       "      <td>KNeighborsRegressor</td>\n",
       "      <td>33454.121090</td>\n",
       "      <td>0.119163</td>\n",
       "      <td>0.690424</td>\n",
       "      <td>0.776406</td>\n",
       "      <td>0.085982</td>\n",
       "    </tr>\n",
       "    <tr>\n",
       "      <th>6</th>\n",
       "      <td>RandomForestRegressor</td>\n",
       "      <td>30157.271908</td>\n",
       "      <td>0.107420</td>\n",
       "      <td>0.918347</td>\n",
       "      <td>0.818304</td>\n",
       "      <td>0.100042</td>\n",
       "    </tr>\n",
       "    <tr>\n",
       "      <th>0</th>\n",
       "      <td>DecisionTreeRegressor</td>\n",
       "      <td>36082.297476</td>\n",
       "      <td>0.128525</td>\n",
       "      <td>0.999405</td>\n",
       "      <td>0.739895</td>\n",
       "      <td>0.259510</td>\n",
       "    </tr>\n",
       "  </tbody>\n",
       "</table>\n",
       "</div>"
      ],
      "text/plain": [
       "                       model          RMSE  Coef_Variance  R-Square_Train  \\\n",
       "3           Lasso Regression  25607.021578       0.091212        0.841012   \n",
       "1           LinearRegression  25606.732377       0.091211        0.841013   \n",
       "2           Ridge Regression  26330.470273       0.093789        0.832960   \n",
       "5                        SVR  70822.420834       0.252269       -0.042170   \n",
       "7  GradientBoostingRegressor  23068.024019       0.082168        0.952401   \n",
       "4        KNeighborsRegressor  33454.121090       0.119163        0.690424   \n",
       "6      RandomForestRegressor  30157.271908       0.107420        0.918347   \n",
       "0      DecisionTreeRegressor  36082.297476       0.128525        0.999405   \n",
       "\n",
       "   R-Square_Test  R-Square_Gap  \n",
       "3       0.868998      0.027985  \n",
       "1       0.869001      0.027988  \n",
       "2       0.861491      0.028531  \n",
       "5      -0.002080      0.040090  \n",
       "7       0.893688      0.058713  \n",
       "4       0.776406      0.085982  \n",
       "6       0.818304      0.100042  \n",
       "0       0.739895      0.259510  "
      ]
     },
     "execution_count": 26,
     "metadata": {},
     "output_type": "execute_result"
    }
   ],
   "source": [
    "## compare model each other\n",
    "Eval = pd.DataFrame()\n",
    "Eval['model'] = desc_model\n",
    "Eval['RMSE'] = RMSE\n",
    "Eval['Coef_Variance']= CV\n",
    "Eval['R-Square_Train'] = R2_train\n",
    "Eval['R-Square_Test'] = R2_test\n",
    "Eval['R-Square_Gap'] = abs(Eval['R-Square_Train'] -Eval['R-Square_Test'])\n",
    "Eval.sort_values(by='R-Square_Gap',ascending=True)"
   ]
  },
  {
   "cell_type": "markdown",
   "metadata": {},
   "source": [
    "Dari hasil perbandingan model, terlihat bahwa model dengan Rsquare_train tertinggi adalah Gradient boosting, Random Forest dan Decision tree, namun nilai Rsquare-train nya sangat berbeda jauh gap nya dengan R-square test, sehingga dapat dikatakan model itu overfit dan tidak baik untuk pemodelan.\n",
    "\n",
    "Model dengan RMSE terendah dan R-square gap terkecil adalah Model Ridge Regression dengan R-square sebesar 85.7%. Model ini yang akan digunakan untuk memprediksi harga rumah."
   ]
  },
  {
   "cell_type": "markdown",
   "metadata": {},
   "source": [
    "## Ridge Regression Modelling with Tuning Parameter (alpha =0.4)"
   ]
  },
  {
   "cell_type": "code",
   "execution_count": 27,
   "metadata": {},
   "outputs": [
    {
     "data": {
      "text/plain": [
       "Ridge(alpha=0.4, copy_X=True, fit_intercept=True, max_iter=None,\n",
       "      normalize=False, random_state=None, solver='auto', tol=0.001)"
      ]
     },
     "execution_count": 27,
     "metadata": {},
     "output_type": "execute_result"
    }
   ],
   "source": [
    "model1=Ridge(alpha=0.4)\n",
    "model1.fit(X_train,y_train)"
   ]
  },
  {
   "cell_type": "code",
   "execution_count": 28,
   "metadata": {},
   "outputs": [
    {
     "name": "stdout",
     "output_type": "stream",
     "text": [
      "0.8675256793933035\n",
      "Root mean squared error:  25750.486019182936\n",
      "R2 score:  0.8675256793933035\n",
      "Coef Variance 0.09172311122969781\n"
     ]
    }
   ],
   "source": [
    "from sklearn.metrics import mean_squared_error, r2_score\n",
    "y_predicted = model1.predict(X_test)\n",
    "# model evaluation\n",
    "rmse = np.sqrt(mean_squared_error(y_test, y_predicted))\n",
    "r2 = r2_score(y_test, y_predicted)\n",
    "cv= rmse/data['totalprice'].mean()\n",
    "print(model1.score(X_test, y_test))\n",
    "print('Root mean squared error: ', rmse)\n",
    "print('R2 score: ', r2)\n",
    "print('Coef Variance',cv)"
   ]
  },
  {
   "cell_type": "markdown",
   "metadata": {},
   "source": [
    "# Thank You\n",
    "Created by : Fransdana Nadeak"
   ]
  }
 ],
 "metadata": {
  "kernelspec": {
   "display_name": "Python 3",
   "language": "python",
   "name": "python3"
  },
  "language_info": {
   "codemirror_mode": {
    "name": "ipython",
    "version": 3
   },
   "file_extension": ".py",
   "mimetype": "text/x-python",
   "name": "python",
   "nbconvert_exporter": "python",
   "pygments_lexer": "ipython3",
   "version": "3.6.4"
  }
 },
 "nbformat": 4,
 "nbformat_minor": 2
}
